{
 "cells": [
  {
   "cell_type": "code",
   "execution_count": 1,
   "id": "998d37a9-e33f-4b0e-a01f-03233cfac0f8",
   "metadata": {},
   "outputs": [],
   "source": [
    "# Imports\n",
    "import numpy as np\n",
    "import uuid\n",
    "from qsi.coordinator import Coordinator\n",
    "from qsi.state import State, StateProp\n",
    "from IPython.display import display"
   ]
  },
  {
   "cell_type": "code",
   "execution_count": 2,
   "id": "8edf4624-68b0-414c-8dbf-d1f8ef3fb038",
   "metadata": {},
   "outputs": [],
   "source": [
    "# Create coordinator and start the modules:\n",
    "coordinator = Coordinator(port=20000)\n",
    "# Coherent source\n",
    "sps  = coordinator.register_component(module=\"single_photon_source.py\", runtime=\"python\")\n",
    "mem = coordinator.register_component(module=\"memory_error.py\", runtime=\"python\")\n",
    "# Run the coordinator process\n",
    "coordinator.run()"
   ]
  },
  {
   "cell_type": "code",
   "execution_count": 3,
   "id": "5ac0a325-4b89-4904-8f35-69ee497203c7",
   "metadata": {},
   "outputs": [],
   "source": [
    "# Initialize memory state\n",
    "mem_state = mem.state_init()[0]"
   ]
  },
  {
   "cell_type": "code",
   "execution_count": 4,
   "id": "db3539f6-f02f-4d02-912b-86665d20475f",
   "metadata": {},
   "outputs": [],
   "source": [
    "sp_state_prop = StateProp(\n",
    "    state_type=\"light\",\n",
    "    truncation=2,\n",
    "    wavelength=1550,\n",
    "    polarization=\"R\",\n",
    "    uuid=\"first\"\n",
    ")\n",
    "sp_state = State(sp_state_prop)"
   ]
  },
  {
   "cell_type": "code",
   "execution_count": 5,
   "id": "edb8d688-8886-4703-be41-0e10cf9d7f3f",
   "metadata": {},
   "outputs": [],
   "source": [
    "# Get the Kraus operators for the generation of the single photon state\n",
    "response, operators = sps.channel_query(\n",
    "    sp_state, {\"input\": sp_state_prop.uuid}\n",
    ")\n",
    "sp_state.apply_kraus_operators(operators, [sp_state_prop])"
   ]
  },
  {
   "cell_type": "code",
   "execution_count": 6,
   "id": "0d03ed83-1d64-4247-bc3a-d7ab87a71163",
   "metadata": {},
   "outputs": [],
   "source": [
    "# Merging the memory state and the input optical state\n",
    "whole_state = sp_state\n",
    "whole_state.merge(mem_state)"
   ]
  },
  {
   "cell_type": "code",
   "execution_count": 7,
   "id": "6c4ef2b3-1ad8-47c3-92df-9767bb00ccf7",
   "metadata": {},
   "outputs": [
    {
     "name": "stdout",
     "output_type": "stream",
     "text": [
      "[[1.+0.j 0.+0.j]\n",
      " [0.+0.j 0.+0.j]]\n",
      "[[0.+0.j 0.+0.j]\n",
      " [0.+0.j 1.+0.j]]\n",
      "0.0\n"
     ]
    }
   ],
   "source": [
    "response, operators = mem.channel_query(\n",
    "    whole_state, {\"input\": sp_state_prop.uuid}\n",
    ")\n",
    "whole_state.apply_kraus_operators(operators, sp_state.get_all_props(response[\"kraus_state_indices\"]))\n",
    "print(whole_state.get_reduced_state([sp_state_prop]))\n",
    "print(whole_state.get_reduced_state([mem_state.state_props[0]]))\n",
    "print(response[\"error\"])"
   ]
  },
  {
   "cell_type": "code",
   "execution_count": 8,
   "id": "91516dde-7c77-49e8-8fb7-d41c36a9b6bf",
   "metadata": {},
   "outputs": [
    {
     "name": "stdout",
     "output_type": "stream",
     "text": [
      "[[1.+0.j 0.+0.j]\n",
      " [0.+0.j 0.+0.j]]\n",
      "[[0.+0.j 0.+0.j]\n",
      " [0.+0.j 1.+0.j]]\n",
      "[[1.+0.j 0.+0.j]\n",
      " [0.+0.j 0.+0.j]]\n",
      "['cc2301fe-7b1e-4cf1-87fc-7727259d5836', 'second']\n",
      "['first', 'cc2301fe-7b1e-4cf1-87fc-7727259d5836', 'second']\n"
     ]
    }
   ],
   "source": [
    "# Creating the memory output state space\n",
    "output_state_prop = StateProp(\n",
    "    state_type = \"light\",\n",
    "    truncation = 2,\n",
    "    wavelength = 1550,\n",
    "    polarization = \"R\",\n",
    "    uuid = \"second\"\n",
    ")\n",
    "output_state = State(output_state_prop)\n",
    "\n",
    "# Combining all of the states into a common (bigger) space\n",
    "whole_state.merge(output_state)\n",
    "print(whole_state.get_reduced_state([sp_state_prop]))\n",
    "print(whole_state.get_reduced_state([mem_state.state_props[0]]))\n",
    "print(whole_state.get_reduced_state([output_state_prop]))\n",
    "\n",
    "response, operators = mem.channel_query(\n",
    "    whole_state, {\"input\": output_state_prop.uuid}\n",
    ")\n",
    "\n",
    "print(response[\"kraus_state_indices\"])\n",
    "whole_state.apply_kraus_operators(operators, whole_state.get_all_props(response[\"kraus_state_indices\"]))\n",
    "print([p.uuid for p in whole_state.state_props])"
   ]
  },
  {
   "cell_type": "code",
   "execution_count": 9,
   "id": "c59bf512-81bb-44d1-9dff-689a471eaf6f",
   "metadata": {},
   "outputs": [
    {
     "name": "stdout",
     "output_type": "stream",
     "text": [
      "[[1.+0.j 0.+0.j]\n",
      " [0.+0.j 0.+0.j]]\n",
      "[[1.+0.j 0.+0.j]\n",
      " [0.+0.j 0.+0.j]]\n",
      "[[0.+0.j 0.+0.j]\n",
      " [0.+0.j 1.+0.j]]\n"
     ]
    }
   ],
   "source": [
    "print(whole_state.get_reduced_state(whole_state.get_all_props([\"first\"])))\n",
    "print(whole_state.get_reduced_state([mem_state.state_props[0]]))\n",
    "print(whole_state.get_reduced_state(whole_state.get_all_props([\"second\"])))"
   ]
  },
  {
   "cell_type": "code",
   "execution_count": null,
   "id": "70f47453-a90b-429d-8042-2414d4ef71f6",
   "metadata": {},
   "outputs": [],
   "source": []
  }
 ],
 "metadata": {
  "kernelspec": {
   "display_name": "qsi",
   "language": "python",
   "name": "venv_name"
  },
  "language_info": {
   "codemirror_mode": {
    "name": "ipython",
    "version": 3
   },
   "file_extension": ".py",
   "mimetype": "text/x-python",
   "name": "python",
   "nbconvert_exporter": "python",
   "pygments_lexer": "ipython3",
   "version": "3.12.4"
  }
 },
 "nbformat": 4,
 "nbformat_minor": 5
}
