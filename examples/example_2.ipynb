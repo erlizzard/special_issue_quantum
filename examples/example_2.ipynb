{
 "cells": [
  {
   "cell_type": "code",
   "execution_count": 1,
   "id": "a9374660-f6d0-4c0b-832d-0d188d0a97b2",
   "metadata": {},
   "outputs": [],
   "source": [
    "# Imports\n",
    "import numpy as np\n",
    "import uuid\n",
    "from qsi.coordinator import Coordinator\n",
    "from qsi.state import State, StateProp"
   ]
  },
  {
   "cell_type": "code",
   "execution_count": 2,
   "id": "8fd44106-1dd4-4f1c-b116-644b281cd4a8",
   "metadata": {},
   "outputs": [
    {
     "name": "stdout",
     "output_type": "stream",
     "text": [
      "{'alpha': {'value': None, 'type': 'complex'}}\n",
      "{'length': {'value': None, 'type': 'number'}, 'n': {'value': None, 'type': 'number'}}\n"
     ]
    }
   ],
   "source": [
    "# Create coordinator and start the modules:\n",
    "coordinator = Coordinator(port=10000)\n",
    "# Coherent source\n",
    "cs  = coordinator.register_component(module=\"coherent_source.py\", runtime=\"python\")\n",
    "fib = coordinator.register_component(module=\"fiber.py\", runtime=\"python\")\n",
    "# Run the coordinator process\n",
    "coordinator.run()"
   ]
  },
  {
   "cell_type": "code",
   "execution_count": 3,
   "id": "a790d817-ed6a-46ea-98bc-b69f412819db",
   "metadata": {},
   "outputs": [],
   "source": [
    "# Set the alpha for the coherent source\n",
    "cs.set_param(\"alpha\", 1+0j)\n",
    "cs.send_params()\n",
    "\n",
    "# Set the length and refractive index for the fiber\n",
    "fib.set_param(\"length\", 10)\n",
    "fib.set_param(\"n\", 1.45)\n",
    "fib.send_params()"
   ]
  },
  {
   "cell_type": "code",
   "execution_count": 4,
   "id": "9e1fd7a2-ca45-48da-9377-7bb7fd09835f",
   "metadata": {},
   "outputs": [],
   "source": [
    "# Generate the space for coherent state\n",
    "coherent_state_prop = StateProp(\n",
    "    state_type=\"light\",\n",
    "    truncation=10,\n",
    "    wavelength=1550,\n",
    "    polarization=\"R\"\n",
    ")\n",
    "coherent_state = State(coherent_state_prop)"
   ]
  },
  {
   "cell_type": "code",
   "execution_count": 5,
   "id": "53c7041a-695e-499e-9738-9fd9b702010c",
   "metadata": {},
   "outputs": [
    {
     "name": "stdout",
     "output_type": "stream",
     "text": [
      "Error due to truncation: 1.1142547828857374e-07\n"
     ]
    }
   ],
   "source": [
    "# Get the Kraus operators for the generation of the coherent state\n",
    "response, operators = cs.channel_query(\n",
    "    coherent_state, {\"input\": coherent_state_prop.uuid}\n",
    ")\n",
    "coherent_state.apply_kraus_operators(operators, [coherent_state_prop])\n",
    "if response[\"error\"]>0:\n",
    "    print(f\"Error due to truncation: {response[\"error\"]}\")"
   ]
  },
  {
   "cell_type": "code",
   "execution_count": 6,
   "id": "28b99491-69f0-45be-a9a2-d0f6b2f9697c",
   "metadata": {},
   "outputs": [],
   "source": [
    "# Get the Kraus operators for the fiber\n",
    "response, operators = fib.channel_query(\n",
    "    coherent_state, {\"input\": coherent_state_prop.uuid}\n",
    ")\n",
    "coherent_state.apply_kraus_operators(operators, [coherent_state_prop])"
   ]
  },
  {
   "cell_type": "code",
   "execution_count": null,
   "id": "4909067b-8999-4331-b831-3a1bb661b1b7",
   "metadata": {},
   "outputs": [],
   "source": []
  }
 ],
 "metadata": {
  "kernelspec": {
   "display_name": "qsi",
   "language": "python",
   "name": "venv_name"
  },
  "language_info": {
   "codemirror_mode": {
    "name": "ipython",
    "version": 3
   },
   "file_extension": ".py",
   "mimetype": "text/x-python",
   "name": "python",
   "nbconvert_exporter": "python",
   "pygments_lexer": "ipython3",
   "version": "3.12.4"
  }
 },
 "nbformat": 4,
 "nbformat_minor": 5
}
