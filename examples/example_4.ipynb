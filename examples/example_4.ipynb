{
 "cells": [
  {
   "cell_type": "code",
   "execution_count": 1,
   "id": "7cbb531c-adca-482f-88ba-45512620e65e",
   "metadata": {},
   "outputs": [],
   "source": [
    "# Imports\n",
    "import numpy as np\n",
    "import uuid\n",
    "from qsi.coordinator import Coordinator\n",
    "from qsi.state import State, StateProp\n",
    "from IPython.display import display\n",
    "import json\n",
    "from dataclasses import asdict"
   ]
  },
  {
   "cell_type": "code",
   "execution_count": 2,
   "id": "43075ecb-ba29-4268-b80d-c9b80538de03",
   "metadata": {},
   "outputs": [
    {
     "name": "stdout",
     "output_type": "stream",
     "text": [
      "{'b0': {'value': None, 'type': 'number'}, 'temp': {'value': None, 'type': 'number'}}\n"
     ]
    }
   ],
   "source": [
    "# Create coordinator and start the modules:\n",
    "coordinator = Coordinator(port=21000)\n",
    "# Coherent source\n",
    "cc = coordinator.register_component(module=\"color_center.py\", runtime=\"python\")\n",
    "# Run the coordinator process\n",
    "coordinator.run()"
   ]
  },
  {
   "cell_type": "code",
   "execution_count": 3,
   "id": "7446049d-940e-4a8f-a10c-b68b863f0527",
   "metadata": {},
   "outputs": [],
   "source": [
    "cc.set_param(\"b0\", 1)\n",
    "cc.set_param(\"temp\", 2)\n",
    "cc.send_params()"
   ]
  },
  {
   "cell_type": "code",
   "execution_count": 4,
   "id": "99f7a93d-78ba-4ee8-b497-8fe11e49da38",
   "metadata": {},
   "outputs": [],
   "source": [
    "cc_state = cc.state_init()[0]"
   ]
  },
  {
   "cell_type": "code",
   "execution_count": 5,
   "id": "a682d2ed-721b-41cd-b15e-681787b3e108",
   "metadata": {},
   "outputs": [
    {
     "name": "stdout",
     "output_type": "stream",
     "text": [
      "<qsi.state.State object at 0x76edf40261e0>\n"
     ]
    }
   ],
   "source": [
    "print(cc_state)"
   ]
  },
  {
   "cell_type": "markdown",
   "id": "c9b04950-27df-4827-961d-b52c7292f7ad",
   "metadata": {},
   "source": [
    "### Classical signal construction\n",
    "We import the Classical signal defined by the color center component in order to define the signal"
   ]
  },
  {
   "cell_type": "code",
   "execution_count": 6,
   "id": "6c4307b3-863a-460e-8730-f59012a08e63",
   "metadata": {
    "jupyter": {
     "source_hidden": true
    }
   },
   "outputs": [],
   "source": [
    "from color_center import ClassicalSignal\n",
    "\n",
    "sig = ClassicalSignal(\n",
    "    b_amplitude=1,\n",
    "    frequency=2.87 * 1e9, # Hz\n",
    "    phase=0,\n",
    "    width=1, #ns\n",
    ")"
   ]
  },
  {
   "cell_type": "code",
   "execution_count": 7,
   "id": "50f4496b-2d11-41af-ab69-8446bd9c7b25",
   "metadata": {},
   "outputs": [
    {
     "name": "stdout",
     "output_type": "stream",
     "text": [
      "{'msg_type': 'channel_query_response', 'kraus_operators': [[[[0.0, 0.0], [0.0, 0.0]], [[1.0, 0.0], [0.0, 0.0]]], [[[0.0, 0.0], [0.0, 0.0]], [[0.0, 0.0], [1.0, 0.0]]]], 'kraus_state_indices': ['ad1b1834-b0bb-417a-95e7-74fd5050b55f'], 'error': 0, 'operation_time': 1, 'retrigger': False, 'sent_from': 53239}\n"
     ]
    }
   ],
   "source": [
    "response, operators = cc.channel_query(\n",
    "    cc_state,\n",
    "    {\n",
    "        \"state\": cc_state.state_props[0].uuid\n",
    "    },\n",
    "    signals = [asdict(sig)],\n",
    "    time = 0.01\n",
    ")"
   ]
  },
  {
   "cell_type": "code",
   "execution_count": 8,
   "id": "6b55fa29-04f6-40a9-8242-b2091983bb0f",
   "metadata": {},
   "outputs": [],
   "source": [
    "cc_state.apply_kraus_operators(\n",
    "    operators,\n",
    "    cc_state.get_all_props(response[\"kraus_state_indices\"]))"
   ]
  },
  {
   "cell_type": "code",
   "execution_count": null,
   "id": "3dd66ff3-0aa1-4e56-be99-2341b36f3582",
   "metadata": {},
   "outputs": [],
   "source": [
    "cc_state."
   ]
  }
 ],
 "metadata": {
  "kernelspec": {
   "display_name": "qsi",
   "language": "python",
   "name": "venv_name"
  },
  "language_info": {
   "codemirror_mode": {
    "name": "ipython",
    "version": 3
   },
   "file_extension": ".py",
   "mimetype": "text/x-python",
   "name": "python",
   "nbconvert_exporter": "python",
   "pygments_lexer": "ipython3",
   "version": "3.12.6"
  }
 },
 "nbformat": 4,
 "nbformat_minor": 5
}
